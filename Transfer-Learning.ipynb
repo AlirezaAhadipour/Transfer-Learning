{
  "nbformat": 4,
  "nbformat_minor": 0,
  "metadata": {
    "colab": {
      "provenance": [],
      "gpuType": "T4",
      "authorship_tag": "ABX9TyMaXk9r9/Qnm7oCc2fUNPTU",
      "include_colab_link": true
    },
    "kernelspec": {
      "name": "python3",
      "display_name": "Python 3"
    },
    "language_info": {
      "name": "python"
    },
    "accelerator": "GPU",
    "gpuClass": "standard"
  },
  "cells": [
    {
      "cell_type": "markdown",
      "metadata": {
        "id": "view-in-github",
        "colab_type": "text"
      },
      "source": [
        "<a href=\"https://colab.research.google.com/github/AlirezaAhadipour/Transfer-Learning/blob/main/Transfer-Learning.ipynb\" target=\"_parent\"><img src=\"https://colab.research.google.com/assets/colab-badge.svg\" alt=\"Open In Colab\"/></a>"
      ]
    },
    {
      "cell_type": "code",
      "execution_count": 1,
      "metadata": {
        "id": "rZ_Y12T5mziG"
      },
      "outputs": [],
      "source": [
        "import tensorflow_datasets as tfds\n",
        "import tensorflow as tf"
      ]
    },
    {
      "cell_type": "code",
      "source": [
        "# load TenserFlow Flowers dataset\n",
        "dataset, info = tfds.load('tf_flowers', as_supervised=True, with_info=True)"
      ],
      "metadata": {
        "id": "jnofh1Mco20Y"
      },
      "execution_count": 3,
      "outputs": []
    },
    {
      "cell_type": "code",
      "source": [
        "info"
      ],
      "metadata": {
        "colab": {
          "base_uri": "https://localhost:8080/"
        },
        "id": "UVK6IMv7pluu",
        "outputId": "85cd960f-cdbb-42b5-e1cf-924bc9efd070"
      },
      "execution_count": 4,
      "outputs": [
        {
          "output_type": "execute_result",
          "data": {
            "text/plain": [
              "tfds.core.DatasetInfo(\n",
              "    name='tf_flowers',\n",
              "    full_name='tf_flowers/3.0.1',\n",
              "    description=\"\"\"\n",
              "    A large set of images of flowers\n",
              "    \"\"\",\n",
              "    homepage='https://www.tensorflow.org/tutorials/load_data/images',\n",
              "    data_path='/root/tensorflow_datasets/tf_flowers/3.0.1',\n",
              "    file_format=tfrecord,\n",
              "    download_size=218.21 MiB,\n",
              "    dataset_size=221.83 MiB,\n",
              "    features=FeaturesDict({\n",
              "        'image': Image(shape=(None, None, 3), dtype=uint8),\n",
              "        'label': ClassLabel(shape=(), dtype=int64, num_classes=5),\n",
              "    }),\n",
              "    supervised_keys=('image', 'label'),\n",
              "    disable_shuffling=False,\n",
              "    splits={\n",
              "        'train': <SplitInfo num_examples=3670, num_shards=2>,\n",
              "    },\n",
              "    citation=\"\"\"@ONLINE {tfflowers,\n",
              "    author = \"The TensorFlow Team\",\n",
              "    title = \"Flowers\",\n",
              "    month = \"jan\",\n",
              "    year = \"2019\",\n",
              "    url = \"http://download.tensorflow.org/example_images/flower_photos.tgz\" }\"\"\",\n",
              ")"
            ]
          },
          "metadata": {},
          "execution_count": 4
        }
      ]
    },
    {
      "cell_type": "code",
      "source": [
        "dataset_size = info.splits['train'].num_examples\n",
        "class_names = info.features['label'].names\n",
        "n_classes = info.features['label'].num_classes"
      ],
      "metadata": {
        "id": "ML1YHUjmpvYG"
      },
      "execution_count": 5,
      "outputs": []
    },
    {
      "cell_type": "code",
      "source": [
        "class_names"
      ],
      "metadata": {
        "colab": {
          "base_uri": "https://localhost:8080/"
        },
        "id": "kwxsVAxer97P",
        "outputId": "2fa1ec52-e48c-4642-f01b-b0a4eba5b095"
      },
      "execution_count": 6,
      "outputs": [
        {
          "output_type": "execute_result",
          "data": {
            "text/plain": [
              "['dandelion', 'daisy', 'tulips', 'sunflowers', 'roses']"
            ]
          },
          "metadata": {},
          "execution_count": 6
        }
      ]
    },
    {
      "cell_type": "code",
      "source": [
        "train, val, test = tfds.load('tf_flowers', split=['train[:80%]', 'train[80%:90%]', 'train[90%:]'], as_supervised=True)"
      ],
      "metadata": {
        "id": "CZUoluj8sNbw"
      },
      "execution_count": 9,
      "outputs": []
    },
    {
      "cell_type": "code",
      "source": [
        "def preprocess(image, label):\n",
        "  resized_image = tf.image.resize(image, [299,299])\n",
        "  processed_image = tf.keras.applications.xception.preprocess_input(resized_image)\n",
        "  return processed_image, label"
      ],
      "metadata": {
        "id": "xWBwcQt0vnw5"
      },
      "execution_count": 10,
      "outputs": []
    },
    {
      "cell_type": "code",
      "source": [
        "batch_size = 32\n",
        "train = train.map(preprocess).batch(batch_size).prefetch(1)\n",
        "val = val.map(preprocess).batch(batch_size).prefetch(1)\n",
        "test = test.map(preprocess).batch(batch_size).prefetch(1)"
      ],
      "metadata": {
        "id": "eaiF7BV6xknL"
      },
      "execution_count": 11,
      "outputs": []
    },
    {
      "cell_type": "code",
      "source": [
        "base_model = tf.keras.applications.xception.Xception(weights='imagenet', include_top=False)\n",
        "\n",
        "avg_pooling = tf.keras.layers.GlobalAveragePooling2D()(base_model.output)\n",
        "output = tf.keras.layers.Dense(n_classes, activation='softmax')(avg_pooling)\n",
        "\n",
        "model = tf.keras.Model(inputs=base_model.input, outputs=output)"
      ],
      "metadata": {
        "id": "0YbazpoM0Gby",
        "outputId": "fe13249f-c33a-4557-c899-0445e0f55de1",
        "colab": {
          "base_uri": "https://localhost:8080/"
        }
      },
      "execution_count": 12,
      "outputs": [
        {
          "output_type": "stream",
          "name": "stdout",
          "text": [
            "Downloading data from https://storage.googleapis.com/tensorflow/keras-applications/xception/xception_weights_tf_dim_ordering_tf_kernels_notop.h5\n",
            "83683744/83683744 [==============================] - 0s 0us/step\n"
          ]
        }
      ]
    },
    {
      "cell_type": "code",
      "source": [
        "# Freez the base model's layers\n",
        "\n",
        "for layer in base_model.layers:\n",
        "  layer.trainable = False"
      ],
      "metadata": {
        "id": "kKwIPLel60hY"
      },
      "execution_count": 13,
      "outputs": []
    },
    {
      "cell_type": "code",
      "source": [
        "model.compile(loss='sparse_categorical_crossentropy',\n",
        "              optimizer=tf.keras.optimizers.SGD(learning_rate=0.01, momentum=0.9),\n",
        "              metrics=['accuracy'])"
      ],
      "metadata": {
        "id": "rdsQchGg7uad"
      },
      "execution_count": 14,
      "outputs": []
    },
    {
      "cell_type": "code",
      "source": [
        "history = model.fit(train, epochs=5, validation_data=val)"
      ],
      "metadata": {
        "colab": {
          "base_uri": "https://localhost:8080/"
        },
        "id": "r3fDYy9p8lV5",
        "outputId": "abd698d7-c57c-4deb-b487-396c0e30da06"
      },
      "execution_count": 15,
      "outputs": [
        {
          "output_type": "stream",
          "name": "stdout",
          "text": [
            "Epoch 1/5\n",
            "92/92 [==============================] - 43s 309ms/step - loss: 0.6146 - accuracy: 0.8021 - val_loss: 0.3822 - val_accuracy: 0.8828\n",
            "Epoch 2/5\n",
            "92/92 [==============================] - 26s 279ms/step - loss: 0.3315 - accuracy: 0.8982 - val_loss: 0.3391 - val_accuracy: 0.8828\n",
            "Epoch 3/5\n",
            "92/92 [==============================] - 24s 259ms/step - loss: 0.2810 - accuracy: 0.9135 - val_loss: 0.3120 - val_accuracy: 0.8910\n",
            "Epoch 4/5\n",
            "92/92 [==============================] - 27s 295ms/step - loss: 0.2497 - accuracy: 0.9264 - val_loss: 0.2941 - val_accuracy: 0.8965\n",
            "Epoch 5/5\n",
            "92/92 [==============================] - 26s 284ms/step - loss: 0.2270 - accuracy: 0.9363 - val_loss: 0.2819 - val_accuracy: 0.9019\n"
          ]
        }
      ]
    },
    {
      "cell_type": "code",
      "source": [
        "# Unreez the base model's layers\n",
        "\n",
        "for layer in base_model.layers:\n",
        "  layer.trainable = True"
      ],
      "metadata": {
        "id": "BlfGXpmD-Inp"
      },
      "execution_count": 16,
      "outputs": []
    },
    {
      "cell_type": "code",
      "source": [
        "model.compile(loss='sparse_categorical_crossentropy',\n",
        "              optimizer=tf.keras.optimizers.SGD(learning_rate=0.01, momentum=0.9),\n",
        "              metrics=['accuracy'])"
      ],
      "metadata": {
        "id": "UHzi8_gw-ugq"
      },
      "execution_count": 17,
      "outputs": []
    },
    {
      "cell_type": "code",
      "source": [
        "history = model.fit(train, epochs=5, validation_data=val)"
      ],
      "metadata": {
        "colab": {
          "base_uri": "https://localhost:8080/"
        },
        "id": "AzqW_XgE-zG8",
        "outputId": "edf274a0-ebd8-45af-e71b-fc9d2d2bceff"
      },
      "execution_count": 18,
      "outputs": [
        {
          "output_type": "stream",
          "name": "stdout",
          "text": [
            "Epoch 1/5\n",
            "92/92 [==============================] - 108s 939ms/step - loss: 0.2416 - accuracy: 0.9189 - val_loss: 0.1838 - val_accuracy: 0.9373\n",
            "Epoch 2/5\n",
            "92/92 [==============================] - 81s 882ms/step - loss: 0.0262 - accuracy: 0.9949 - val_loss: 0.1234 - val_accuracy: 0.9619\n",
            "Epoch 3/5\n",
            "92/92 [==============================] - 81s 880ms/step - loss: 0.0050 - accuracy: 0.9997 - val_loss: 0.1196 - val_accuracy: 0.9728\n",
            "Epoch 4/5\n",
            "92/92 [==============================] - 81s 879ms/step - loss: 0.0028 - accuracy: 1.0000 - val_loss: 0.1228 - val_accuracy: 0.9619\n",
            "Epoch 5/5\n",
            "92/92 [==============================] - 81s 878ms/step - loss: 0.0020 - accuracy: 1.0000 - val_loss: 0.1248 - val_accuracy: 0.9619\n"
          ]
        }
      ]
    },
    {
      "cell_type": "code",
      "source": [],
      "metadata": {
        "id": "Ivw_hWYb--Qn"
      },
      "execution_count": null,
      "outputs": []
    }
  ]
}